{
  "nbformat": 4,
  "nbformat_minor": 0,
  "metadata": {
    "colab": {
      "name": "Neural Gas.ipynb",
      "provenance": [],
      "collapsed_sections": []
    },
    "kernelspec": {
      "name": "python3",
      "display_name": "Python 3"
    },
    "language_info": {
      "name": "python"
    }
  },
  "cells": [
    {
      "cell_type": "code",
      "execution_count": null,
      "metadata": {
        "id": "hwCe_4a5rPRk"
      },
      "outputs": [],
      "source": [
        "import numpy as np\n",
        "import pandas as pd\n",
        "import matplotlib.pyplot as plt\n",
        "import matplotlib.cm as cm\n",
        "from matplotlib.patches import Rectangle"
      ]
    },
    {
      "cell_type": "code",
      "source": [
        "# Structure of the Neural Gas Network, You can set n (input dimension), k neurons, and m partner\n",
        "n = 2\n",
        "m_partner = 4\n",
        "# W.r.t m, you can set the number of neurons in each partner m\n",
        "k_neurons = np.array([10, 10, 10, 10])\n",
        "# Learning rate at the begining and at the end\n",
        "Learning_rate_init = 0.1\n",
        "Learning_rate_end = 0.005\n",
        "# Size s for the Gaussian Function\n",
        "s = 1"
      ],
      "metadata": {
        "id": "caWiCqPvrp7k"
      },
      "execution_count": null,
      "outputs": []
    },
    {
      "cell_type": "code",
      "source": [
        "def Euclidian(X , C):\n",
        "  # Compute the Euclidian distance\n",
        "  dist_XC = np.linalg.norm(X - C)\n",
        "  return dist_XC \n",
        "   "
      ],
      "metadata": {
        "id": "3ZLmAGuvtkWy"
      },
      "execution_count": null,
      "outputs": []
    },
    {
      "cell_type": "code",
      "source": [
        "def guassian(dist_ij):\n",
        "  # Compute the Gaussian Function with fixed size s for neighborhood function\n",
        "  global s \n",
        "  return np.exp(( -1*(dist_ij)**2) / (2*(s)**2) )\n",
        "\n"
      ],
      "metadata": {
        "id": "pejueMQ5vVow"
      },
      "execution_count": null,
      "outputs": []
    },
    {
      "cell_type": "code",
      "source": [
        "# Implement an exponentially decaying learning rate η \n",
        "def Learning_rate(t):\n",
        "  global Learning_rate_end, Learning_rate_init\n",
        "  t_max = 10**4\n",
        "  eta = Learning_rate_init*((Learning_rate_end/Learning_rate_init)**(t/t_max))\n",
        "  return eta \n"
      ],
      "metadata": {
        "id": "6wt158SLtnHo"
      },
      "execution_count": null,
      "outputs": []
    },
    {
      "cell_type": "code",
      "source": [
        "# Reading dataset 1\n",
        "df = pd.read_csv(\"PA-E-train1.txt\", sep=\" \", header=None,skiprows=2)\n",
        "df1 = df.dropna(axis=1)\n",
        "df1.head()\n",
        "X = df1.iloc[:,:].values"
      ],
      "metadata": {
        "id": "XgOVB1BA6ld3"
      },
      "execution_count": null,
      "outputs": []
    },
    {
      "cell_type": "code",
      "source": [
        "# Reading dataset 2\n",
        "df = pd.read_csv(\"PA-E-train2.txt\", sep=\" \", header=None,skiprows=2)\n",
        "df1 = df.dropna(axis=1)\n",
        "df1.head()\n",
        "X = df1.iloc[:,:].values"
      ],
      "metadata": {
        "id": "5HChIf5KQnjB"
      },
      "execution_count": null,
      "outputs": []
    },
    {
      "cell_type": "code",
      "source": [
        "# Randomly select (same seed) desirednumber of Center from dataset(X)\n",
        "np.random.seed(50)\n",
        "indices = np.random.choice(X.shape[0], np.sum(k_neurons) , replace=False)\n",
        "c = X[indices]\n",
        "# divide chosen centers between m partners\n",
        "dict_c, k = {}, 0\n",
        "for i, j in enumerate(k_neurons):\n",
        "  if i == 0:\n",
        "    dict_c[i] = c[:j, :]\n",
        "    k = j\n",
        "  else:\n",
        "    dict_c[i] = c[k:k+j, :]\n",
        "    k = k+j\n",
        "\n",
        "# Plot centers before trainig\n",
        "colors = cm.rainbow(np.linspace(0, 1, m_partner))\n",
        "fig = plt.figure()\n",
        "plt.xlabel('X1')\n",
        "plt.ylabel('X2')\n",
        "for key, value in dict_c.items():\n",
        "  for k in range(len(value)):\n",
        "    plt.scatter(value[k][0], value[k][1], color = colors[key])\n",
        "plt.title('Centers before training')\n",
        "plt.show()"
      ],
      "metadata": {
        "colab": {
          "base_uri": "https://localhost:8080/",
          "height": 295
        },
        "id": "3Ju24nuwvBVj",
        "outputId": "46687531-4f35-4068-eb16-f9b89586a25f"
      },
      "execution_count": null,
      "outputs": [
        {
          "output_type": "display_data",
          "data": {
            "image/png": "[encoded data removed]",
            "text/plain": [
              "<Figure size 432x288 with 1 Axes>"
            ]
          },
          "metadata": {
            "needs_background": "light"
          }
        }
      ]
    },
    {
      "cell_type": "code",
      "source": [
        "# For each data pattern, determine the winner neuron and winner partner. Then learn \n",
        "# the centers in that partner w.r.t their distances in a sortet list from winner neurons\n",
        "for iter in range(500):\n",
        "  for i in range(len(X)):\n",
        "    # set the timer for decaying the learning_rate\n",
        "    t = i\n",
        "    min = 10**10\n",
        "    r_best, key_best = [], 0\n",
        "    # Copmute all the distances to find the winner neuron and partner\n",
        "    for key, value in dict_c.items():\n",
        "      r = []\n",
        "      for k in range(len(value)):\n",
        "        dist_XC = Euclidian(X[i], value[k])\n",
        "        r.append(dist_XC)\n",
        "      # Update the winner neuron and partner\n",
        "      if np.amin(r) < min:\n",
        "        r_best = np.array(r)\n",
        "        min = np.amin(r_best)\n",
        "        key_best = key\n",
        "\n",
        "    # Creating the sorted list\n",
        "    r_best_indices = np.argsort(r_best)\n",
        "    r_best = np.sort(r_best)\n",
        "    # Learning_rule: delta_c = Learning_rate(t)*h(dist(i, j), t)*(X[i] - Cj)\n",
        "    # which h is the gaussian function with fixed size s and learning_rate is decaying with time\n",
        "    for z, j in enumerate(r_best):\n",
        "      delta_c = Learning_rate(t)*(guassian(z))*(X[i] - dict_c[key_best][r_best_indices[z]])\n",
        "      dict_c[key_best][r_best_indices[z]] += delta_c"
      ],
      "metadata": {
        "id": "GWlGW_lc21Xc"
      },
      "execution_count": null,
      "outputs": []
    },
    {
      "cell_type": "code",
      "source": [
        "# plotting the centers and writing the centers on a file\n",
        "fig = plt.figure()\n",
        "for key, value in dict_c.items():\n",
        "  max_x, max_y= 0, 0\n",
        "  indices = np.argsort(np.linalg.norm(value,axis=1))\n",
        "  x, y = value[indices[-1]]\n",
        "  for k in range(len(value)):\n",
        "    plt.scatter(value[k][0], value[k][1], color = colors[key])\n",
        "    if key == k == 0:\n",
        "      f = open(\"PA-E-net.txt\", \"w\")\n",
        "    else:\n",
        "      f = open(\"PA-E-net.txt\", \"a\")\n",
        "    f.write(str(value[k][0]) + '\\t' + str(value[k][1]) + '\\n')\n",
        "    if np.absolute(value[k][0] - x) > np.absolute(max_x):\n",
        "      max_x = value[k][0] - x\n",
        "    if np.absolute(value[k][1] - y) > np.absolute(max_y):\n",
        "      max_y = value[k][1] - y\n",
        "  currentAxis = plt.gca()\n",
        "  currentAxis.add_patch(Rectangle((x, y), max_x, max_y, facecolor=\"none\", ec= colors[key], lw=0.5))\n",
        "\n",
        "plt.xlabel('X1')\n",
        "plt.ylabel('X2')\n",
        "plt.title('Centers after training with M = '+str(m_partner))\n",
        "plt.show()"
      ],
      "metadata": {
        "id": "oL31m0nhDs48"
      },
      "execution_count": null,
      "outputs": []
    }
  ]
}